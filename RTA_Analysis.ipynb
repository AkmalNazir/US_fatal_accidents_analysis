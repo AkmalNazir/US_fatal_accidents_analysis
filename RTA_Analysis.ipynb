{
 "cells": [
  {
   "cell_type": "code",
   "execution_count": 1,
   "metadata": {},
   "outputs": [],
   "source": [
    "from pyspark.sql import SparkSession\n",
    "from pyspark import SparkConf, SparkContext\n",
    "spark = SparkSession.builder.appName('RTA_Analysis').getOrCreate()"
   ]
  },
  {
   "cell_type": "markdown",
   "metadata": {},
   "source": [
    "### load dataset to RDD"
   ]
  },
  {
   "cell_type": "code",
   "execution_count": 2,
   "metadata": {},
   "outputs": [],
   "source": [
    "sc = spark.sparkContext\n",
    "#CSV_RDD = (sc.textFile(\"./US_RTA copy.csv\",minPartitions = 4).map(lambda element: element.split('\\t')))"
   ]
  },
  {
   "cell_type": "markdown",
   "metadata": {},
   "source": [
    "### load dataset and do some Query (filter the columns that we need)"
   ]
  },
  {
   "cell_type": "code",
   "execution_count": 3,
   "metadata": {},
   "outputs": [],
   "source": [
    "from pyspark.sql.types import *\n",
    "from pyspark.sql import SQLContext\n",
    "sqlContext = SQLContext(sc)\n",
    "\n",
    "#df = sqlContext.read.load(\"./US_Accidents_Dec19.csv\",\n",
    "                             #format='com.databricks.spark.csv',\n",
    "                             #inferSchema='true',\n",
    "                             #header='true',\n",
    "                             #nullValue='NA')\n",
    "df = spark.read.csv(\"./US_Accidents_Dec19.csv\",header=True,inferSchema=True)"
   ]
  },
  {
   "cell_type": "code",
   "execution_count": 4,
   "metadata": {},
   "outputs": [
    {
     "name": "stdout",
     "output_type": "stream",
     "text": [
      "root\n",
      " |-- ID: string (nullable = true)\n",
      " |-- Source: string (nullable = true)\n",
      " |-- TMC: double (nullable = true)\n",
      " |-- Severity: integer (nullable = true)\n",
      " |-- Start_Time: timestamp (nullable = true)\n",
      " |-- End_Time: timestamp (nullable = true)\n",
      " |-- Start_Lat: double (nullable = true)\n",
      " |-- Start_Lng: double (nullable = true)\n",
      " |-- End_Lat: double (nullable = true)\n",
      " |-- End_Lng: double (nullable = true)\n",
      " |-- Distance(mi): double (nullable = true)\n",
      " |-- Description: string (nullable = true)\n",
      " |-- Number: double (nullable = true)\n",
      " |-- Street: string (nullable = true)\n",
      " |-- Side: string (nullable = true)\n",
      " |-- City: string (nullable = true)\n",
      " |-- County: string (nullable = true)\n",
      " |-- State: string (nullable = true)\n",
      " |-- Zipcode: string (nullable = true)\n",
      " |-- Country: string (nullable = true)\n",
      " |-- Timezone: string (nullable = true)\n",
      " |-- Airport_Code: string (nullable = true)\n",
      " |-- Weather_Timestamp: timestamp (nullable = true)\n",
      " |-- Temperature(F): double (nullable = true)\n",
      " |-- Wind_Chill(F): double (nullable = true)\n",
      " |-- Humidity(%): double (nullable = true)\n",
      " |-- Pressure(in): double (nullable = true)\n",
      " |-- Visibility(mi): double (nullable = true)\n",
      " |-- Wind_Direction: string (nullable = true)\n",
      " |-- Wind_Speed(mph): double (nullable = true)\n",
      " |-- Precipitation(in): double (nullable = true)\n",
      " |-- Weather_Condition: string (nullable = true)\n",
      " |-- Amenity: boolean (nullable = true)\n",
      " |-- Bump: boolean (nullable = true)\n",
      " |-- Crossing: boolean (nullable = true)\n",
      " |-- Give_Way: boolean (nullable = true)\n",
      " |-- Junction: boolean (nullable = true)\n",
      " |-- No_Exit: boolean (nullable = true)\n",
      " |-- Railway: boolean (nullable = true)\n",
      " |-- Roundabout: boolean (nullable = true)\n",
      " |-- Station: boolean (nullable = true)\n",
      " |-- Stop: boolean (nullable = true)\n",
      " |-- Traffic_Calming: boolean (nullable = true)\n",
      " |-- Traffic_Signal: boolean (nullable = true)\n",
      " |-- Turning_Loop: boolean (nullable = true)\n",
      " |-- Sunrise_Sunset: string (nullable = true)\n",
      " |-- Civil_Twilight: string (nullable = true)\n",
      " |-- Nautical_Twilight: string (nullable = true)\n",
      " |-- Astronomical_Twilight: string (nullable = true)\n",
      "\n"
     ]
    }
   ],
   "source": [
    "df.printSchema()"
   ]
  },
  {
   "cell_type": "markdown",
   "metadata": {},
   "source": [
    "### Select the fields that we need"
   ]
  },
  {
   "cell_type": "code",
   "execution_count": 5,
   "metadata": {},
   "outputs": [],
   "source": [
    "RTA_df = df.select(\"ID\", \"Severity\", \"Start_Time\", \"End_Time\", \"Start_Lat\",\n",
    "                   \"Start_Lng\", \"Distance(mi)\", \"Street\", \"Side\", \"City\",\n",
    "                   \"Temperature(F)\", \"Humidity(%)\", \"Visibility(mi)\",\n",
    "                   \"Wind_Speed(mph)\", \"Precipitation(in)\", \"Weather_Condition\",\n",
    "                   \"Bump\", \"Crossing\", \"Give_Way\", \"Junction\", \"Station\",\n",
    "                   \"Stop\", \"Traffic_Calming\", \"Traffic_Signal\",\n",
    "                   \"Sunrise_Sunset\", \"Description\")"
   ]
  },
  {
   "cell_type": "code",
   "execution_count": 6,
   "metadata": {},
   "outputs": [
    {
     "name": "stdout",
     "output_type": "stream",
     "text": [
      "+----+--------+-------------------+-------------------+---------+----------+------------+--------------------+----+------------+--------------+-----------+--------------+---------------+-----------------+-----------------+-----+--------+--------+--------+-------+-----+---------------+--------------+--------------+--------------------+\n",
      "|  ID|Severity|         Start_Time|           End_Time|Start_Lat| Start_Lng|Distance(mi)|              Street|Side|        City|Temperature(F)|Humidity(%)|Visibility(mi)|Wind_Speed(mph)|Precipitation(in)|Weather_Condition| Bump|Crossing|Give_Way|Junction|Station| Stop|Traffic_Calming|Traffic_Signal|Sunrise_Sunset|         Description|\n",
      "+----+--------+-------------------+-------------------+---------+----------+------------+--------------------+----+------------+--------------+-----------+--------------+---------------+-----------------+-----------------+-----+--------+--------+--------+-------+-----+---------------+--------------+--------------+--------------------+\n",
      "| A-1|       3|2016-02-08 05:46:00|2016-02-08 11:00:00|39.865147|-84.058723|        0.01|              I-70 E|   R|      Dayton|          36.9|       91.0|          10.0|           null|             0.02|       Light Rain|false|   false|   false|   false|  false|false|          false|         false|         Night|Right lane blocke...|\n",
      "| A-2|       2|2016-02-08 06:07:59|2016-02-08 06:37:59|39.928059|-82.831184|        0.01|            Brice Rd|   L|Reynoldsburg|          37.9|      100.0|          10.0|           null|              0.0|       Light Rain|false|   false|   false|   false|  false|false|          false|         false|         Night|Accident on Brice...|\n",
      "| A-3|       2|2016-02-08 06:49:27|2016-02-08 07:19:27|39.063148|-84.032608|        0.01|      State Route 32|   R|Williamsburg|          36.0|      100.0|          10.0|            3.5|             null|         Overcast|false|   false|   false|   false|  false|false|          false|          true|         Night|Accident on OH-32...|\n",
      "| A-4|       3|2016-02-08 07:23:34|2016-02-08 07:53:34|39.747753|-84.205582|        0.01|              I-75 S|   R|      Dayton|          35.1|       96.0|           9.0|            4.6|             null|    Mostly Cloudy|false|   false|   false|   false|  false|false|          false|         false|         Night|Accident on I-75 ...|\n",
      "| A-5|       2|2016-02-08 07:39:07|2016-02-08 08:09:07|39.627781|-84.188354|        0.01|Miamisburg Center...|   R|      Dayton|          36.0|       89.0|           6.0|            3.5|             null|    Mostly Cloudy|false|   false|   false|   false|  false|false|          false|          true|           Day|Accident on McEwe...|\n",
      "| A-6|       3|2016-02-08 07:44:26|2016-02-08 08:14:26| 40.10059|-82.925194|        0.01|      Westerville Rd|   R| Westerville|          37.9|       97.0|           7.0|            3.5|             0.03|       Light Rain|false|   false|   false|   false|  false|false|          false|         false|           Day|Accident on I-270...|\n",
      "| A-7|       2|2016-02-08 07:59:35|2016-02-08 08:29:35|39.758274|-84.230507|         0.0|      N Woodward Ave|   R|      Dayton|          34.0|      100.0|           7.0|            3.5|             null|         Overcast|false|   false|   false|   false|  false|false|          false|         false|           Day|Accident on Oakri...|\n",
      "| A-8|       3|2016-02-08 07:59:58|2016-02-08 08:29:58|39.770382|-84.194901|        0.01|           N Main St|   R|      Dayton|          34.0|      100.0|           7.0|            3.5|             null|         Overcast|false|   false|   false|   false|  false|false|          false|         false|           Day|Accident on I-75 ...|\n",
      "| A-9|       2|2016-02-08 08:00:40|2016-02-08 08:30:40|39.778061|-84.172005|         0.0|      Notre Dame Ave|   L|      Dayton|          33.3|       99.0|           5.0|            1.2|             null|    Mostly Cloudy|false|   false|   false|   false|  false|false|          false|         false|           Day|Accident on Notre...|\n",
      "|A-10|       3|2016-02-08 08:10:04|2016-02-08 08:40:04| 40.10059|-82.925194|        0.01|      Westerville Rd|   R| Westerville|          37.4|      100.0|           3.0|            4.6|             0.02|       Light Rain|false|   false|   false|   false|  false|false|          false|         false|           Day|Right hand should...|\n",
      "|A-11|       3|2016-02-08 08:14:42|2016-02-08 08:44:42|39.952812|-83.119293|        0.01|         Outerbelt S|   R|    Columbus|          35.6|       93.0|           5.0|            5.8|             null|             Rain|false|   false|   false|   false|  false|false|          false|         false|           Day|Accident on I-270...|\n",
      "|A-12|       3|2016-02-08 08:21:27|2016-02-08 08:51:27|39.932709| -82.83091|        0.01|              I-70 E|   R|Reynoldsburg|          37.4|      100.0|           3.0|            4.6|             0.02|       Light Rain|false|   false|   false|    true|  false|false|          false|         false|           Day|One lane blocked ...|\n",
      "|A-13|       2|2016-02-08 08:36:34|2016-02-08 09:06:34|39.737633|-84.149933|         0.0|      Watervliet Ave|   R|      Dayton|          33.8|      100.0|           3.0|            2.3|             null|         Overcast|false|   false|   false|   false|  false|false|          false|         false|           Day|Accident on Rever...|\n",
      "|A-14|       2|2016-02-08 08:37:07|2016-02-08 09:07:07| 39.79076|-84.241547|        0.01|           Salem Ave|   L|      Dayton|          36.0|       89.0|          10.0|            5.8|             null|    Mostly Cloudy|false|   false|   false|   false|  false|false|          false|          true|           Day|Accident on Salem...|\n",
      "|A-15|       2|2016-02-08 08:39:43|2016-02-08 09:09:43|39.972038|-82.913521|        0.01|          E Broad St|   L|    Columbus|          37.4|      100.0|           3.0|            4.6|             0.02|       Light Rain|false|   false|   false|   false|  false|false|          false|          true|           Day|Accident on OH-16...|\n",
      "|A-16|       2|2016-02-08 08:43:20|2016-02-08 09:13:20|39.745888| -84.17041|        0.01|         Glencoe Ave|   R|      Dayton|          33.8|      100.0|           3.0|            2.3|             null|         Overcast|false|   false|   false|   false|  false|false|          false|         false|           Day|Accident on Wayne...|\n",
      "|A-17|       2|2016-02-08 08:53:17|2016-02-08 09:23:17|39.748329|-84.224007|        0.01|S James H McGee Blvd|   R|      Dayton|          35.6|       99.0|           7.0|            2.3|             null|    Mostly Cloudy|false|   false|   false|   false|  false|false|          false|         false|           Day|Accident on James...|\n",
      "|A-18|       2|2016-02-08 09:24:37|2016-02-08 09:54:37|39.752174|-84.239952|         0.0|         Delphos Ave|   R|      Dayton|          36.0|       89.0|          10.0|            5.8|             null|    Mostly Cloudy|false|   false|   false|   false|  false|false|          false|         false|           Day|Accident on Delph...|\n",
      "|A-19|       2|2016-02-08 09:25:17|2016-02-08 09:55:17|39.740669|-84.184135|        0.01|          Rubicon St|   L|      Dayton|          37.4|       93.0|          10.0|            6.9|             null|         Overcast|false|    true|   false|   false|  false|false|          false|          true|           Day|Accident on Stewa...|\n",
      "|A-20|       2|2016-02-08 09:35:35|2016-02-08 10:05:35|39.790703|-84.244461|        0.01|     W Hillcrest Ave|   R|      Dayton|          36.0|       89.0|          10.0|            6.9|             null|    Mostly Cloudy|false|   false|   false|   false|  false|false|          false|         false|           Day|Accident on Hillc...|\n",
      "+----+--------+-------------------+-------------------+---------+----------+------------+--------------------+----+------------+--------------+-----------+--------------+---------------+-----------------+-----------------+-----+--------+--------+--------+-------+-----+---------------+--------------+--------------+--------------------+\n",
      "only showing top 20 rows\n",
      "\n"
     ]
    }
   ],
   "source": [
    "RTA_df.show()"
   ]
  },
  {
   "cell_type": "code",
   "execution_count": 8,
   "metadata": {},
   "outputs": [
    {
     "data": {
      "text/plain": [
       "2974335"
      ]
     },
     "execution_count": 8,
     "metadata": {},
     "output_type": "execute_result"
    }
   ],
   "source": [
    "RTA_df.count()"
   ]
  },
  {
   "cell_type": "markdown",
   "metadata": {},
   "source": [
    "### Test for grouping by day"
   ]
  },
  {
   "cell_type": "code",
   "execution_count": 10,
   "metadata": {},
   "outputs": [],
   "source": [
    "RTA_df.registerTempTable('RTA_table')"
   ]
  },
  {
   "cell_type": "code",
   "execution_count": 58,
   "metadata": {},
   "outputs": [
    {
     "name": "stdout",
     "output_type": "stream",
     "text": [
      "+----------+-----+\n",
      "|      Date|count|\n",
      "+----------+-----+\n",
      "|2016-08-17| 2263|\n",
      "|2017-05-14|  575|\n",
      "|2019-08-22| 2983|\n",
      "|2019-08-23| 2826|\n",
      "|2019-08-08| 2773|\n",
      "|2017-12-05| 3354|\n",
      "|2016-09-11|  640|\n",
      "|2016-08-08| 2309|\n",
      "|2016-08-20|  676|\n",
      "|2016-04-22|  927|\n",
      "|2017-02-24| 2496|\n",
      "|2017-05-11| 1960|\n",
      "|2019-09-29| 1331|\n",
      "|2019-08-31| 1574|\n",
      "|2019-04-25| 2783|\n",
      "|2018-12-31| 2501|\n",
      "|2017-12-22| 3021|\n",
      "|2017-10-20| 3266|\n",
      "|2016-07-06| 2148|\n",
      "|2016-05-21|  367|\n",
      "+----------+-----+\n",
      "only showing top 20 rows\n",
      "\n"
     ]
    }
   ],
   "source": [
    "RTA_date = RTA_df.select('ID','Start_Time','`Temperature(F)`','`Humidity(%)`','`Visibility(mi)`','`Wind_Speed(mph)`','Weather_Condition').groupBy(date_format('Start_Time','yyy-MM-dd').alias('Date')).count().show()"
   ]
  },
  {
   "cell_type": "markdown",
   "metadata": {},
   "source": [
    "### groupbyday and calcualte the average value"
   ]
  },
  {
   "cell_type": "code",
   "execution_count": 167,
   "metadata": {},
   "outputs": [],
   "source": [
    "RTA_Day = sqlContext.sql(\n",
    "    'select date(Start_Time) as Day, AVG(`Temperature(F)`) as AverageTemperature, AVG(`Humidity(%)`) as AverageHumidity, AVG(`Visibility(mi)`) as AverageVisibility, AVG(`Wind_Speed(mph)`) as AverageWindSpeed from RTA_table group by date(Start_Time) order by date(Start_Time)'\n",
    ")"
   ]
  },
  {
   "cell_type": "markdown",
   "metadata": {},
   "source": [
    "## Data preprocessing"
   ]
  },
  {
   "cell_type": "code",
   "execution_count": 246,
   "metadata": {
    "scrolled": false
   },
   "outputs": [
    {
     "data": {
      "text/plain": [
       "2508771"
      ]
     },
     "execution_count": 246,
     "metadata": {},
     "output_type": "execute_result"
    }
   ],
   "source": [
    "RTA_Day.registerTempTable('RTA_Day')\n",
    "\n",
    "# Step 1 join replace the nul vlaue with average value of that day\n",
    "join = 'SELECT * FROM RTA_table FULL OUTER JOIN RTA_Day ON date(Start_Time)=RTA_Day.Day order by Start_Time'\n",
    "RTA_join = sqlContext.sql(join)\n",
    "RTA_join = RTA_1.drop('Day')\n",
    "\n",
    "RTA_join.registerTempTable('RTA_join')\n",
    "\n",
    "# Step 2 if Precipitation is null, set 0\n",
    "precipitation = 'SELECT *, ifnull(`Precipitation(in)`, 0) Precipitation FROM RTA_join'\n",
    "RTA_precipitation = sqlContext.sql(precipitation)\n",
    "RTA_precipitation = RTA_precipitation.drop('Precipitation(in)')\n",
    "\n",
    "# Step 3 delete all records who have null value\n",
    "RTA_final = RTA_precipitation.dropna()\n",
    "RTA_final.count()\n",
    "\n"
   ]
  },
  {
   "cell_type": "code",
   "execution_count": 264,
   "metadata": {},
   "outputs": [
    {
     "data": {
      "text/plain": [
       "740230"
      ]
     },
     "execution_count": 264,
     "metadata": {},
     "output_type": "execute_result"
    }
   ],
   "source": [
    "# Step 4 Severity = 3\n",
    "RTA_final = RTA_final.filter(RTA_final.Severity == 3)\n",
    "RTA_final.count()"
   ]
  },
  {
   "cell_type": "markdown",
   "metadata": {},
   "source": [
    "### Spark RDD"
   ]
  },
  {
   "cell_type": "code",
   "execution_count": 265,
   "metadata": {},
   "outputs": [],
   "source": [
    "# Dataframe to RDD\n",
    "RTA_rdd = RTA_final.rdd"
   ]
  },
  {
   "cell_type": "code",
   "execution_count": 266,
   "metadata": {},
   "outputs": [
    {
     "data": {
      "text/plain": [
       "[Row(ID='A-2246288', Severity=3, Start_Time=datetime.datetime(2016, 2, 8, 0, 37, 8), End_Time=datetime.datetime(2016, 2, 8, 6, 37, 8), Start_Lat=40.10891, Start_Lng=-83.09286, Distance(mi)=3.23, Street='Outerbelt E', Side='R', City='Dublin', Temperature(F)=42.1, Humidity(%)=58.0, Visibility(mi)=10.0, Wind_Speed(mph)=10.4, Weather_Condition='Light Rain', Bump=False, Crossing=False, Give_Way=False, Junction=False, Station=False, Stop=False, Traffic_Calming=False, Traffic_Signal=False, Sunrise_Sunset='Night', Description='Between Sawmill Rd/Exit 20 and OH-315/Olentangy Riv Rd/Exit 22 - Accident.', AverageTemperature=35.388333333333335, AverageHumidity=91.81666666666666, AverageVisibility=7.13, AverageWindSpeed=6.3632653061224485, Precipitation=0.0)]"
      ]
     },
     "execution_count": 266,
     "metadata": {},
     "output_type": "execute_result"
    }
   ],
   "source": [
    "# print the first element\n",
    "RTA_rdd.take(1)"
   ]
  },
  {
   "cell_type": "code",
   "execution_count": 267,
   "metadata": {},
   "outputs": [
    {
     "data": {
      "text/plain": [
       "MapPartitionsRDD[1826] at coalesce at NativeMethodAccessorImpl.java:0"
      ]
     },
     "execution_count": 267,
     "metadata": {},
     "output_type": "execute_result"
    }
   ],
   "source": [
    "RTA_rdd.repartition(10)"
   ]
  },
  {
   "cell_type": "code",
   "execution_count": 353,
   "metadata": {},
   "outputs": [
    {
     "data": {
      "text/plain": [
       "200"
      ]
     },
     "execution_count": 353,
     "metadata": {},
     "output_type": "execute_result"
    }
   ],
   "source": [
    "RTA_rdd.getNumPartitions()"
   ]
  },
  {
   "cell_type": "code",
   "execution_count": 334,
   "metadata": {},
   "outputs": [],
   "source": [
    "# first get Row, then to dict, finally get the value\n",
    "visibility_rdd = RTA_final.select('`Visibility(mi)`').rdd.map(lambda x: x.asDict()).map(lambda x: x.get('Visibility(mi)'))"
   ]
  },
  {
   "cell_type": "code",
   "execution_count": 370,
   "metadata": {},
   "outputs": [],
   "source": [
    "def calculateFrequencyInRange(rdd,start,end):\n",
    "    filter_rdd = rdd.filter(lambda x: start <= x < end)\n",
    "    rdd_mapped = filter_rdd.map(lambda x: (x,1))\n",
    "    rdd_grouped = rdd_mapped.groupByKey()\n",
    "    rdd_frequency = rdd_grouped.mapValues(sum).map(lambda x: (x[1],x[0])).sortByKey(False)\n",
    "    rdd_frequency_startEnd = rdd_frequency.map(lambda x: x[0])\n",
    "    \n",
    "    return rdd_frequency_startEnd.sum()"
   ]
  },
  {
   "cell_type": "markdown",
   "metadata": {},
   "source": [
    "### Visibility"
   ]
  },
  {
   "cell_type": "code",
   "execution_count": 371,
   "metadata": {},
   "outputs": [
    {
     "name": "stdout",
     "output_type": "stream",
     "text": [
      "The number of car accidents with a visibility of 0 to 10 is:  142933\n",
      "The number of car accidents with a visibility of 10 to 20 is:  593994\n",
      "The number of car accidents with a visibility of 20 to 30 is:  999\n",
      "The number of car accidents with a visibility of 30 to 50 is:  1407\n",
      "The number of car accidents with a visibility over 50 is:  897\n"
     ]
    }
   ],
   "source": [
    "# first get Row, then to dict, finally get the value\n",
    "visibility_rdd = RTA_final.select('`Visibility(mi)`').rdd.map(lambda x: x.asDict()).map(lambda x: x.get('Visibility(mi)'))\n",
    "\n",
    "\n",
    "print(\"The number of car accidents with a visibility of 0 to 10 is: \",calculateFrequencyInRange(visibility_rdd,0,10))\n",
    "print(\"The number of car accidents with a visibility of 10 to 20 is: \",calculateFrequencyInRange(visibility_rdd,10,20))\n",
    "print(\"The number of car accidents with a visibility of 20 to 30 is: \",calculateFrequencyInRange(visibility_rdd,20,30))\n",
    "print(\"The number of car accidents with a visibility of 30 to 50 is: \",calculateFrequencyInRange(visibility_rdd,30,50))\n",
    "print(\"The number of car accidents with a visibility over 50 is: \",calculateFrequencyInRange(visibility_rdd,50,float('inf')))\n",
    "#rdd_frequency_0_10.take(10)\n",
    "\n",
    "\n",
    "\n",
    "#calculateFrequency(visibility_rdd,10,20).take(10)\n",
    "#calculateFrequency(visibility_rdd,20,float('inf')).take(10)"
   ]
  },
  {
   "cell_type": "markdown",
   "metadata": {},
   "source": [
    "### Weather Conditoin"
   ]
  },
  {
   "cell_type": "code",
   "execution_count": 473,
   "metadata": {},
   "outputs": [],
   "source": [
    "def calculateFrequency(rdd):\n",
    "    rdd_mapped = rdd.map(lambda x: (x,1))\n",
    "    rdd_grouped = rdd_mapped.groupByKey()\n",
    "    rdd_frequency = rdd_grouped.mapValues(sum).map(lambda x: (x[1],x[0])).sortByKey(False)\n",
    "    rdd_frequency_total = rdd_frequency.map(lambda x: x[0])\n",
    "    return rdd_frequency_total.sum()"
   ]
  },
  {
   "cell_type": "code",
   "execution_count": 415,
   "metadata": {},
   "outputs": [
    {
     "name": "stdout",
     "output_type": "stream",
     "text": [
      "The number of traffic accidents on cloudy days: \n",
      "224720\n",
      "The number of traffic accidents on clear days: \n",
      "184928\n",
      "The number of traffic accidents on overcast days: \n",
      "101183\n",
      "The number of traffic accidents on rainy days: \n",
      "62531\n",
      "The number of traffic accidents on snowy days: \n",
      "16187\n",
      "The number of traffic accidents on fogy days: \n",
      "3958\n"
     ]
    }
   ],
   "source": [
    "weather_df = RTA_final.select('Weather_Condition')\n",
    "# group different description for 'Cloudy' together\n",
    "print(\"The number of traffic accidents on Cloudy days: \") \n",
    "cloudy_df = weather_df.filter(\"Weather_Condition rlike 'Cloudy'\")\n",
    "cloudy_rdd = cloudy_df.rdd.map(lambda x: x.asDict()).map(lambda x: x.get('Weather_Condition'))\n",
    "print(calculateFrequency(cloudy_rdd))\n",
    "\n",
    "print('The number of traffic accidents on Clear days: ')\n",
    "clear_df = weather_df.filter(\"Weather_Condition rlike 'Clear'\")\n",
    "clear_rdd = clear_df.rdd.map(lambda x: x.asDict()).map(lambda x: x.get('Weather_Condition'))\n",
    "print(calculateFrequency(clear_rdd))\n",
    "\n",
    "print(\"The number of traffic accidents on Overcast days: \")\n",
    "overcast_df = weather_df.filter(\"Weather_Condition rlike 'Overcast'\")\n",
    "overcast_rdd = overcast_df.rdd.map(lambda x: x.asDict()).map(lambda x: x.get('Weather_Condition'))\n",
    "print(calculateFrequency(overcast_rdd))\n",
    "\n",
    "print(\"The number of traffic accidents on Rainy days: \")\n",
    "rain_df = weather_df.filter(\"Weather_Condition rlike 'Rain'\")\n",
    "rain_rdd = rain_df.rdd.map(lambda x: x.asDict()).map(lambda x: x.get('Weather_Condition'))\n",
    "print(calculateFrequency(rain_rdd))\n",
    "\n",
    "print(\"The number of traffic accidents on Fnowy days: \")\n",
    "snow_df = weather_df.filter(\"Weather_Condition rlike 'Snow'\")\n",
    "snow_rdd = snow_df.rdd.map(lambda x: x.asDict()).map(lambda x: x.get('Weather_Condition'))\n",
    "print(calculateFrequency(snow_rdd))\n",
    "\n",
    "print(\"The number of traffic accidents on Fogy days: \")\n",
    "fog_df = weather_df.filter(\"Weather_Condition rlike 'Fog'\")\n",
    "fog_rdd = fog_df.rdd.map(lambda x: x.asDict()).map(lambda x: x.get('Weather_Condition'))\n",
    "print(calculateFrequency(fog_rdd))"
   ]
  },
  {
   "cell_type": "markdown",
   "metadata": {},
   "source": [
    "### Position"
   ]
  },
  {
   "cell_type": "code",
   "execution_count": 417,
   "metadata": {},
   "outputs": [],
   "source": [
    "import os\n",
    "\n",
    "os.environ['PROJ_LIB'] = r'/Users/cgl/anaconda3/share/proj'"
   ]
  },
  {
   "cell_type": "code",
   "execution_count": 418,
   "metadata": {},
   "outputs": [],
   "source": [
    "from mpl_toolkits.basemap import Basemap\n",
    "import numpy as np\n",
    "import matplotlib.pyplot as plt\n",
    "import pandas as pd\n",
    "from matplotlib import cm"
   ]
  },
  {
   "cell_type": "code",
   "execution_count": 468,
   "metadata": {},
   "outputs": [
    {
     "name": "stderr",
     "output_type": "stream",
     "text": [
      "/Users/cgl/anaconda3/lib/python3.7/site-packages/ipykernel_launcher.py:4: MatplotlibDeprecationWarning: \n",
      "The dedent function was deprecated in Matplotlib 3.1 and will be removed in 3.3. Use inspect.cleandoc instead.\n",
      "  after removing the cwd from sys.path.\n",
      "/Users/cgl/anaconda3/lib/python3.7/site-packages/ipykernel_launcher.py:6: MatplotlibDeprecationWarning: \n",
      "The dedent function was deprecated in Matplotlib 3.1 and will be removed in 3.3. Use inspect.cleandoc instead.\n",
      "  \n",
      "/Users/cgl/anaconda3/lib/python3.7/site-packages/ipykernel_launcher.py:8: MatplotlibDeprecationWarning: \n",
      "The dedent function was deprecated in Matplotlib 3.1 and will be removed in 3.3. Use inspect.cleandoc instead.\n",
      "  \n"
     ]
    },
    {
     "data": {
      "image/png": "[encoded data removed]",
      "text/plain": [
       "<Figure size 432x288 with 1 Axes>"
      ]
     },
     "metadata": {},
     "output_type": "display_data"
    }
   ],
   "source": [
    "map = Basemap(projection='stere',lat_0=90,lon_0=-105,\\\n",
    "            llcrnrlat=23.41 ,urcrnrlat=45.44,\\\n",
    "            llcrnrlon=-118.67,urcrnrlon=-64.52,\\\n",
    "            rsphere=6371200.,resolution='l',area_thresh=10000)\n",
    "map.drawmapboundary()   \n",
    "map.drawstates()        \n",
    "map.drawcoastlines()    \n",
    "map.drawcountries()     \n",
    "#map.drawcounties()      \n",
    "\n",
    "parallels = np.arange(0.,90,10.) \n",
    "map.drawparallels(parallels,labels=[1,0,0,0],fontsize=10) \n",
    "\n",
    "meridians = np.arange(-110.,-60.,10.)\n",
    "map.drawmeridians(meridians,labels=[0,0,0,1],fontsize=10) \n",
    "\n",
    "RTA_2018 = RTA_final.filter(year('Start_Time').alias('year') == 2018)\n",
    "\n",
    "lat = RTA_2018.select('Start_Lat').toPandas().values\n",
    "lon = RTA_2018.select('Start_Lng').toPandas().values\n",
    "\n",
    "x,y = map(lon,lat)\n",
    "\n",
    "plt.scatter(x,y,cmap=cm.hsv)\n",
    "#map.scatter(x,y)\n",
    "plt.title('America')\n",
    "plt.show()\n"
   ]
  },
  {
   "cell_type": "markdown",
   "metadata": {},
   "source": [
    "### Humidity"
   ]
  },
  {
   "cell_type": "code",
   "execution_count": 483,
   "metadata": {},
   "outputs": [],
   "source": [
    "def calculateFrequency_Nosum(rdd):\n",
    "    rdd_mapped = rdd.map(lambda x: (x,1))\n",
    "    rdd_grouped = rdd_mapped.groupByKey()\n",
    "    rdd_frequency = rdd_grouped.mapValues(sum).map(lambda x: (x[1],x[0])).sortByKey(False)\n",
    "    #rdd_frequency_total = rdd_frequency.map(lambda x: x[0])\n",
    "    return rdd_frequency.take(10)"
   ]
  },
  {
   "cell_type": "code",
   "execution_count": 484,
   "metadata": {},
   "outputs": [
    {
     "data": {
      "text/plain": [
       "[(26583, 93.0),\n",
       " (24886, 100.0),\n",
       " (16614, 90.0),\n",
       " (16175, 87.0),\n",
       " (13414, 96.0),\n",
       " (12909, 84.0),\n",
       " (12762, 78.0),\n",
       " (12571, 81.0),\n",
       " (12391, 65.0),\n",
       " (12358, 89.0)]"
      ]
     },
     "execution_count": 484,
     "metadata": {},
     "output_type": "execute_result"
    }
   ],
   "source": [
    "humidity_df = RTA_final.select('`Humidity(%)`')\n",
    "humidity_rdd = humidity_df.rdd.map(lambda x: x.asDict()).map(lambda x: x.get('Humidity(%)'))\n",
    "#humidity_rdd.take(10)\n",
    "calculateFrequency_Nosum(humidity_rdd)"
   ]
  },
  {
   "cell_type": "code",
   "execution_count": null,
   "metadata": {},
   "outputs": [],
   "source": []
  },
  {
   "cell_type": "code",
   "execution_count": null,
   "metadata": {},
   "outputs": [],
   "source": []
  }
 ],
 "metadata": {
  "kernelspec": {
   "display_name": "Python 3",
   "language": "python",
   "name": "python3"
  },
  "language_info": {
   "codemirror_mode": {
    "name": "ipython",
    "version": 3
   },
   "file_extension": ".py",
   "mimetype": "text/x-python",
   "name": "python",
   "nbconvert_exporter": "python",
   "pygments_lexer": "ipython3",
   "version": "3.7.3"
  }
 },
 "nbformat": 4,
 "nbformat_minor": 4
}
